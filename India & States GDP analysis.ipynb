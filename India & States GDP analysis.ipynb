{
 "cells": [
  {
   "cell_type": "code",
   "execution_count": 1,
   "metadata": {},
   "outputs": [
    {
     "name": "stderr",
     "output_type": "stream",
     "text": [
      "<ipython-input-1-fdc7ff668635>:10: FutureWarning: Passing a negative integer is deprecated in version 1.0 and will not be supported in future version. Instead, use None to not limit the column width.\n",
      "  pd.set_option('display.max_colwidth', -1)\n"
     ]
    }
   ],
   "source": [
    "import numpy as np\n",
    "import pandas as pd\n",
    "import matplotlib.pyplot as plt\n",
    "import glob\n",
    "from functools import reduce\n",
    "from itertools import cycle, islice\n",
    "pd.options.display.float_format='{:.4f}'.format\n",
    "plt.rcParams['figure.figsize'] = [11.5,8]\n",
    "pd.set_option('display.max_columns', 500)\n",
    "pd.set_option('display.max_colwidth', -1)"
   ]
  },
  {
   "cell_type": "code",
   "execution_count": 2,
   "metadata": {},
   "outputs": [],
   "source": [
    "path=r'C:/Users/Admin/python/EDA__Indian GDP/'"
   ]
  },
  {
   "cell_type": "code",
   "execution_count": 3,
   "metadata": {},
   "outputs": [
    {
     "data": {
      "text/html": [
       "<div>\n",
       "<style scoped>\n",
       "    .dataframe tbody tr th:only-of-type {\n",
       "        vertical-align: middle;\n",
       "    }\n",
       "\n",
       "    .dataframe tbody tr th {\n",
       "        vertical-align: top;\n",
       "    }\n",
       "\n",
       "    .dataframe thead th {\n",
       "        text-align: right;\n",
       "    }\n",
       "</style>\n",
       "<table border=\"1\" class=\"dataframe\">\n",
       "  <thead>\n",
       "    <tr style=\"text-align: right;\">\n",
       "      <th></th>\n",
       "      <th>Items  Description</th>\n",
       "      <th>Duration</th>\n",
       "      <th>Andhra Pradesh</th>\n",
       "      <th>Arunachal Pradesh</th>\n",
       "      <th>Assam</th>\n",
       "      <th>Bihar</th>\n",
       "      <th>Chhattisgarh</th>\n",
       "      <th>Goa</th>\n",
       "      <th>Gujarat</th>\n",
       "      <th>Haryana</th>\n",
       "      <th>Himachal Pradesh</th>\n",
       "      <th>Jammu &amp; Kashmir</th>\n",
       "      <th>Jharkhand</th>\n",
       "      <th>Karnataka</th>\n",
       "      <th>Kerala</th>\n",
       "      <th>Madhya Pradesh</th>\n",
       "      <th>Maharashtra</th>\n",
       "      <th>Manipur</th>\n",
       "      <th>Meghalaya</th>\n",
       "      <th>Mizoram</th>\n",
       "      <th>Nagaland</th>\n",
       "      <th>Odisha</th>\n",
       "      <th>Punjab</th>\n",
       "      <th>Rajasthan</th>\n",
       "      <th>Sikkim</th>\n",
       "      <th>Tamil Nadu</th>\n",
       "      <th>Telangana</th>\n",
       "      <th>Tripura</th>\n",
       "      <th>Uttar Pradesh</th>\n",
       "      <th>Uttarakhand</th>\n",
       "      <th>West Bengal1</th>\n",
       "      <th>Andaman &amp; Nicobar Islands</th>\n",
       "      <th>Chandigarh</th>\n",
       "      <th>Delhi</th>\n",
       "      <th>Puducherry</th>\n",
       "      <th>All_India GDP</th>\n",
       "    </tr>\n",
       "  </thead>\n",
       "  <tbody>\n",
       "    <tr>\n",
       "      <th>0</th>\n",
       "      <td>GSDP - CURRENT PRICES (` in Crore)</td>\n",
       "      <td>2011-12</td>\n",
       "      <td>379402.0000</td>\n",
       "      <td>11063.0000</td>\n",
       "      <td>143175.0000</td>\n",
       "      <td>247144.0000</td>\n",
       "      <td>158074.0000</td>\n",
       "      <td>42367.0000</td>\n",
       "      <td>615606.0000</td>\n",
       "      <td>297539.0000</td>\n",
       "      <td>72720.0000</td>\n",
       "      <td>78254.0000</td>\n",
       "      <td>150918.0000</td>\n",
       "      <td>603778.0000</td>\n",
       "      <td>364048.0000</td>\n",
       "      <td>315561.0000</td>\n",
       "      <td>1272967.0000</td>\n",
       "      <td>12915.0000</td>\n",
       "      <td>19918.0000</td>\n",
       "      <td>7259.0000</td>\n",
       "      <td>11839.0000</td>\n",
       "      <td>227872.0000</td>\n",
       "      <td>266628.0000</td>\n",
       "      <td>436465.0000</td>\n",
       "      <td>11165.0000</td>\n",
       "      <td>751485.0000</td>\n",
       "      <td>359433.0000</td>\n",
       "      <td>19208.0000</td>\n",
       "      <td>724049.0000</td>\n",
       "      <td>115523.0000</td>\n",
       "      <td>nan</td>\n",
       "      <td>3979.0000</td>\n",
       "      <td>18768.0000</td>\n",
       "      <td>343767.0000</td>\n",
       "      <td>16818.0000</td>\n",
       "      <td>8736039.0000</td>\n",
       "    </tr>\n",
       "    <tr>\n",
       "      <th>1</th>\n",
       "      <td>GSDP - CURRENT PRICES (` in Crore)</td>\n",
       "      <td>2012-13</td>\n",
       "      <td>411404.0000</td>\n",
       "      <td>12547.0000</td>\n",
       "      <td>156864.0000</td>\n",
       "      <td>282368.0000</td>\n",
       "      <td>177511.0000</td>\n",
       "      <td>38120.0000</td>\n",
       "      <td>724495.0000</td>\n",
       "      <td>347032.0000</td>\n",
       "      <td>82820.0000</td>\n",
       "      <td>87105.0000</td>\n",
       "      <td>174724.0000</td>\n",
       "      <td>691700.0000</td>\n",
       "      <td>412313.0000</td>\n",
       "      <td>380924.0000</td>\n",
       "      <td>1448466.0000</td>\n",
       "      <td>13748.0000</td>\n",
       "      <td>21872.0000</td>\n",
       "      <td>8362.0000</td>\n",
       "      <td>13619.0000</td>\n",
       "      <td>258275.0000</td>\n",
       "      <td>297734.0000</td>\n",
       "      <td>494004.0000</td>\n",
       "      <td>12338.0000</td>\n",
       "      <td>855481.0000</td>\n",
       "      <td>401493.0000</td>\n",
       "      <td>21663.0000</td>\n",
       "      <td>822903.0000</td>\n",
       "      <td>131835.0000</td>\n",
       "      <td>nan</td>\n",
       "      <td>4421.0000</td>\n",
       "      <td>21609.0000</td>\n",
       "      <td>391238.0000</td>\n",
       "      <td>18875.0000</td>\n",
       "      <td>9946636.0000</td>\n",
       "    </tr>\n",
       "    <tr>\n",
       "      <th>2</th>\n",
       "      <td>GSDP - CURRENT PRICES (` in Crore)</td>\n",
       "      <td>2013-14</td>\n",
       "      <td>464272.0000</td>\n",
       "      <td>14602.0000</td>\n",
       "      <td>177745.0000</td>\n",
       "      <td>317101.0000</td>\n",
       "      <td>206690.0000</td>\n",
       "      <td>35921.0000</td>\n",
       "      <td>807623.0000</td>\n",
       "      <td>400662.0000</td>\n",
       "      <td>94764.0000</td>\n",
       "      <td>95893.0000</td>\n",
       "      <td>188567.0000</td>\n",
       "      <td>817886.0000</td>\n",
       "      <td>465041.0000</td>\n",
       "      <td>437737.0000</td>\n",
       "      <td>1647506.0000</td>\n",
       "      <td>16198.0000</td>\n",
       "      <td>22938.0000</td>\n",
       "      <td>10293.0000</td>\n",
       "      <td>16612.0000</td>\n",
       "      <td>291709.0000</td>\n",
       "      <td>334714.0000</td>\n",
       "      <td>549701.0000</td>\n",
       "      <td>13862.0000</td>\n",
       "      <td>971090.0000</td>\n",
       "      <td>452186.0000</td>\n",
       "      <td>25593.0000</td>\n",
       "      <td>944146.0000</td>\n",
       "      <td>149817.0000</td>\n",
       "      <td>nan</td>\n",
       "      <td>5159.0000</td>\n",
       "      <td>24787.0000</td>\n",
       "      <td>443783.0000</td>\n",
       "      <td>21870.0000</td>\n",
       "      <td>11236635.0000</td>\n",
       "    </tr>\n",
       "    <tr>\n",
       "      <th>3</th>\n",
       "      <td>GSDP - CURRENT PRICES (` in Crore)</td>\n",
       "      <td>2014-15</td>\n",
       "      <td>526468.0000</td>\n",
       "      <td>16761.0000</td>\n",
       "      <td>198098.0000</td>\n",
       "      <td>373920.0000</td>\n",
       "      <td>234982.0000</td>\n",
       "      <td>40633.0000</td>\n",
       "      <td>895027.0000</td>\n",
       "      <td>437462.0000</td>\n",
       "      <td>104369.0000</td>\n",
       "      <td>100404.0000</td>\n",
       "      <td>217107.0000</td>\n",
       "      <td>921788.0000</td>\n",
       "      <td>526002.0000</td>\n",
       "      <td>481982.0000</td>\n",
       "      <td>1792122.0000</td>\n",
       "      <td>18043.0000</td>\n",
       "      <td>24408.0000</td>\n",
       "      <td>11559.0000</td>\n",
       "      <td>18414.0000</td>\n",
       "      <td>321971.0000</td>\n",
       "      <td>368011.0000</td>\n",
       "      <td>612194.0000</td>\n",
       "      <td>15209.0000</td>\n",
       "      <td>1092564.0000</td>\n",
       "      <td>511178.0000</td>\n",
       "      <td>29667.0000</td>\n",
       "      <td>1043371.0000</td>\n",
       "      <td>161985.0000</td>\n",
       "      <td>nan</td>\n",
       "      <td>5721.0000</td>\n",
       "      <td>27844.0000</td>\n",
       "      <td>492424.0000</td>\n",
       "      <td>24089.0000</td>\n",
       "      <td>12433749.0000</td>\n",
       "    </tr>\n",
       "    <tr>\n",
       "      <th>4</th>\n",
       "      <td>GSDP - CURRENT PRICES (` in Crore)</td>\n",
       "      <td>2015-16</td>\n",
       "      <td>609934.0000</td>\n",
       "      <td>18784.0000</td>\n",
       "      <td>224234.0000</td>\n",
       "      <td>413503.0000</td>\n",
       "      <td>260776.0000</td>\n",
       "      <td>45002.0000</td>\n",
       "      <td>994316.0000</td>\n",
       "      <td>485184.0000</td>\n",
       "      <td>nan</td>\n",
       "      <td>118387.0000</td>\n",
       "      <td>241955.0000</td>\n",
       "      <td>1027068.0000</td>\n",
       "      <td>588337.0000</td>\n",
       "      <td>543975.0000</td>\n",
       "      <td>nan</td>\n",
       "      <td>nan</td>\n",
       "      <td>26745.0000</td>\n",
       "      <td>nan</td>\n",
       "      <td>nan</td>\n",
       "      <td>341887.0000</td>\n",
       "      <td>nan</td>\n",
       "      <td>nan</td>\n",
       "      <td>16637.0000</td>\n",
       "      <td>1212668.0000</td>\n",
       "      <td>575631.0000</td>\n",
       "      <td>nan</td>\n",
       "      <td>1153795.0000</td>\n",
       "      <td>184091.0000</td>\n",
       "      <td>nan</td>\n",
       "      <td>nan</td>\n",
       "      <td>30304.0000</td>\n",
       "      <td>551963.0000</td>\n",
       "      <td>26533.0000</td>\n",
       "      <td>13675331.0000</td>\n",
       "    </tr>\n",
       "  </tbody>\n",
       "</table>\n",
       "</div>"
      ],
      "text/plain": [
       "                   Items  Description Duration  Andhra Pradesh   \\\n",
       "0  GSDP - CURRENT PRICES (` in Crore)  2011-12 379402.0000        \n",
       "1  GSDP - CURRENT PRICES (` in Crore)  2012-13 411404.0000        \n",
       "2  GSDP - CURRENT PRICES (` in Crore)  2013-14 464272.0000        \n",
       "3  GSDP - CURRENT PRICES (` in Crore)  2014-15 526468.0000        \n",
       "4  GSDP - CURRENT PRICES (` in Crore)  2015-16 609934.0000        \n",
       "\n",
       "   Arunachal Pradesh       Assam       Bihar  Chhattisgarh        Goa  \\\n",
       "0 11063.0000         143175.0000 247144.0000 158074.0000   42367.0000   \n",
       "1 12547.0000         156864.0000 282368.0000 177511.0000   38120.0000   \n",
       "2 14602.0000         177745.0000 317101.0000 206690.0000   35921.0000   \n",
       "3 16761.0000         198098.0000 373920.0000 234982.0000   40633.0000   \n",
       "4 18784.0000         224234.0000 413503.0000 260776.0000   45002.0000   \n",
       "\n",
       "      Gujarat     Haryana  Himachal Pradesh  Jammu & Kashmir   Jharkhand  \\\n",
       "0 615606.0000 297539.0000 72720.0000        78254.0000       150918.0000   \n",
       "1 724495.0000 347032.0000 82820.0000        87105.0000       174724.0000   \n",
       "2 807623.0000 400662.0000 94764.0000        95893.0000       188567.0000   \n",
       "3 895027.0000 437462.0000 104369.0000       100404.0000      217107.0000   \n",
       "4 994316.0000 485184.0000 nan               118387.0000      241955.0000   \n",
       "\n",
       "     Karnataka      Kerala  Madhya Pradesh  Maharashtra    Manipur  Meghalaya  \\\n",
       "0 603778.0000  364048.0000 315561.0000     1272967.0000 12915.0000 19918.0000   \n",
       "1 691700.0000  412313.0000 380924.0000     1448466.0000 13748.0000 21872.0000   \n",
       "2 817886.0000  465041.0000 437737.0000     1647506.0000 16198.0000 22938.0000   \n",
       "3 921788.0000  526002.0000 481982.0000     1792122.0000 18043.0000 24408.0000   \n",
       "4 1027068.0000 588337.0000 543975.0000     nan          nan        26745.0000   \n",
       "\n",
       "     Mizoram   Nagaland      Odisha      Punjab   Rajasthan     Sikkim  \\\n",
       "0 7259.0000  11839.0000 227872.0000 266628.0000 436465.0000 11165.0000   \n",
       "1 8362.0000  13619.0000 258275.0000 297734.0000 494004.0000 12338.0000   \n",
       "2 10293.0000 16612.0000 291709.0000 334714.0000 549701.0000 13862.0000   \n",
       "3 11559.0000 18414.0000 321971.0000 368011.0000 612194.0000 15209.0000   \n",
       "4 nan        nan        341887.0000 nan         nan         16637.0000   \n",
       "\n",
       "    Tamil Nadu   Telangana    Tripura  Uttar Pradesh  Uttarakhand  \\\n",
       "0 751485.0000  359433.0000 19208.0000 724049.0000    115523.0000    \n",
       "1 855481.0000  401493.0000 21663.0000 822903.0000    131835.0000    \n",
       "2 971090.0000  452186.0000 25593.0000 944146.0000    149817.0000    \n",
       "3 1092564.0000 511178.0000 29667.0000 1043371.0000   161985.0000    \n",
       "4 1212668.0000 575631.0000 nan        1153795.0000   184091.0000    \n",
       "\n",
       "   West Bengal1  Andaman & Nicobar Islands  Chandigarh       Delhi  \\\n",
       "0 nan           3979.0000                  18768.0000  343767.0000   \n",
       "1 nan           4421.0000                  21609.0000  391238.0000   \n",
       "2 nan           5159.0000                  24787.0000  443783.0000   \n",
       "3 nan           5721.0000                  27844.0000  492424.0000   \n",
       "4 nan           nan                        30304.0000  551963.0000   \n",
       "\n",
       "   Puducherry  All_India GDP  \n",
       "0 16818.0000  8736039.0000    \n",
       "1 18875.0000  9946636.0000    \n",
       "2 21870.0000  11236635.0000   \n",
       "3 24089.0000  12433749.0000   \n",
       "4 26533.0000  13675331.0000   "
      ]
     },
     "execution_count": 3,
     "metadata": {},
     "output_type": "execute_result"
    }
   ],
   "source": [
    "data = path +'SGDP.csv'\n",
    "gdp_data= pd.read_csv(data)\n",
    "gdp_data.head(5)"
   ]
  },
  {
   "cell_type": "code",
   "execution_count": 4,
   "metadata": {},
   "outputs": [
    {
     "data": {
      "text/plain": [
       "(11, 36)"
      ]
     },
     "execution_count": 4,
     "metadata": {},
     "output_type": "execute_result"
    }
   ],
   "source": [
    "gdp_data.shape"
   ]
  },
  {
   "cell_type": "code",
   "execution_count": 5,
   "metadata": {},
   "outputs": [
    {
     "data": {
      "text/html": [
       "<div>\n",
       "<style scoped>\n",
       "    .dataframe tbody tr th:only-of-type {\n",
       "        vertical-align: middle;\n",
       "    }\n",
       "\n",
       "    .dataframe tbody tr th {\n",
       "        vertical-align: top;\n",
       "    }\n",
       "\n",
       "    .dataframe thead th {\n",
       "        text-align: right;\n",
       "    }\n",
       "</style>\n",
       "<table border=\"1\" class=\"dataframe\">\n",
       "  <thead>\n",
       "    <tr style=\"text-align: right;\">\n",
       "      <th></th>\n",
       "      <th>Andhra Pradesh</th>\n",
       "      <th>Arunachal Pradesh</th>\n",
       "      <th>Assam</th>\n",
       "      <th>Bihar</th>\n",
       "      <th>Chhattisgarh</th>\n",
       "      <th>Goa</th>\n",
       "      <th>Gujarat</th>\n",
       "      <th>Haryana</th>\n",
       "      <th>Himachal Pradesh</th>\n",
       "      <th>Jammu &amp; Kashmir</th>\n",
       "      <th>Jharkhand</th>\n",
       "      <th>Karnataka</th>\n",
       "      <th>Kerala</th>\n",
       "      <th>Madhya Pradesh</th>\n",
       "      <th>Maharashtra</th>\n",
       "      <th>Manipur</th>\n",
       "      <th>Meghalaya</th>\n",
       "      <th>Mizoram</th>\n",
       "      <th>Nagaland</th>\n",
       "      <th>Odisha</th>\n",
       "      <th>Punjab</th>\n",
       "      <th>Rajasthan</th>\n",
       "      <th>Sikkim</th>\n",
       "      <th>Tamil Nadu</th>\n",
       "      <th>Telangana</th>\n",
       "      <th>Tripura</th>\n",
       "      <th>Uttar Pradesh</th>\n",
       "      <th>Uttarakhand</th>\n",
       "      <th>West Bengal1</th>\n",
       "      <th>Andaman &amp; Nicobar Islands</th>\n",
       "      <th>Chandigarh</th>\n",
       "      <th>Delhi</th>\n",
       "      <th>Puducherry</th>\n",
       "      <th>All_India GDP</th>\n",
       "    </tr>\n",
       "  </thead>\n",
       "  <tbody>\n",
       "    <tr>\n",
       "      <th>count</th>\n",
       "      <td>11.0000</td>\n",
       "      <td>9.0000</td>\n",
       "      <td>9.0000</td>\n",
       "      <td>9.0000</td>\n",
       "      <td>11.0000</td>\n",
       "      <td>9.0000</td>\n",
       "      <td>9.0000</td>\n",
       "      <td>11.0000</td>\n",
       "      <td>7.0000</td>\n",
       "      <td>9.0000</td>\n",
       "      <td>9.0000</td>\n",
       "      <td>9.0000</td>\n",
       "      <td>9.0000</td>\n",
       "      <td>11.0000</td>\n",
       "      <td>7.0000</td>\n",
       "      <td>7.0000</td>\n",
       "      <td>11.0000</td>\n",
       "      <td>7.0000</td>\n",
       "      <td>7.0000</td>\n",
       "      <td>11.0000</td>\n",
       "      <td>7.0000</td>\n",
       "      <td>7.0000</td>\n",
       "      <td>9.0000</td>\n",
       "      <td>11.0000</td>\n",
       "      <td>11.0000</td>\n",
       "      <td>7.0000</td>\n",
       "      <td>9.0000</td>\n",
       "      <td>9.0000</td>\n",
       "      <td>0.0000</td>\n",
       "      <td>7.0000</td>\n",
       "      <td>9.0000</td>\n",
       "      <td>11.0000</td>\n",
       "      <td>11.0000</td>\n",
       "      <td>11.0000</td>\n",
       "    </tr>\n",
       "    <tr>\n",
       "      <th>mean</th>\n",
       "      <td>280986.5618</td>\n",
       "      <td>8201.5167</td>\n",
       "      <td>100018.1678</td>\n",
       "      <td>181565.6733</td>\n",
       "      <td>120748.8791</td>\n",
       "      <td>22450.1200</td>\n",
       "      <td>448568.6744</td>\n",
       "      <td>228667.2718</td>\n",
       "      <td>50673.0643</td>\n",
       "      <td>53343.0011</td>\n",
       "      <td>108146.8078</td>\n",
       "      <td>451364.1022</td>\n",
       "      <td>261754.6678</td>\n",
       "      <td>254612.6664</td>\n",
       "      <td>880156.7586</td>\n",
       "      <td>8705.6671</td>\n",
       "      <td>13226.2927</td>\n",
       "      <td>5360.5143</td>\n",
       "      <td>8647.4086</td>\n",
       "      <td>165523.5182</td>\n",
       "      <td>181017.2914</td>\n",
       "      <td>298914.2600</td>\n",
       "      <td>7694.7744</td>\n",
       "      <td>565646.8409</td>\n",
       "      <td>268570.7873</td>\n",
       "      <td>13739.6914</td>\n",
       "      <td>520923.7189</td>\n",
       "      <td>82588.9478</td>\n",
       "      <td>nan</td>\n",
       "      <td>2759.8143</td>\n",
       "      <td>13707.0022</td>\n",
       "      <td>258693.0045</td>\n",
       "      <td>12527.4355</td>\n",
       "      <td>6479952.4536</td>\n",
       "    </tr>\n",
       "    <tr>\n",
       "      <th>std</th>\n",
       "      <td>282573.5324</td>\n",
       "      <td>8073.2761</td>\n",
       "      <td>97589.4975</td>\n",
       "      <td>178700.4977</td>\n",
       "      <td>120928.4804</td>\n",
       "      <td>21443.4298</td>\n",
       "      <td>438025.6272</td>\n",
       "      <td>228195.8956</td>\n",
       "      <td>48384.1211</td>\n",
       "      <td>51712.6685</td>\n",
       "      <td>105639.9050</td>\n",
       "      <td>444821.6063</td>\n",
       "      <td>256167.6851</td>\n",
       "      <td>257221.1141</td>\n",
       "      <td>838823.0427</td>\n",
       "      <td>8298.6926</td>\n",
       "      <td>12892.7626</td>\n",
       "      <td>5180.5337</td>\n",
       "      <td>8338.9660</td>\n",
       "      <td>163258.5689</td>\n",
       "      <td>172158.2435</td>\n",
       "      <td>284618.5131</td>\n",
       "      <td>7451.9832</td>\n",
       "      <td>563615.7890</td>\n",
       "      <td>268734.5491</td>\n",
       "      <td>13240.7973</td>\n",
       "      <td>508728.8361</td>\n",
       "      <td>80553.8583</td>\n",
       "      <td>nan</td>\n",
       "      <td>2627.0167</td>\n",
       "      <td>13399.0033</td>\n",
       "      <td>258176.5163</td>\n",
       "      <td>12445.8893</td>\n",
       "      <td>6433000.3626</td>\n",
       "    </tr>\n",
       "    <tr>\n",
       "      <th>min</th>\n",
       "      <td>8.4300</td>\n",
       "      <td>12.0700</td>\n",
       "      <td>9.5600</td>\n",
       "      <td>10.5900</td>\n",
       "      <td>10.9800</td>\n",
       "      <td>-10.0200</td>\n",
       "      <td>10.8200</td>\n",
       "      <td>9.1800</td>\n",
       "      <td>10.1400</td>\n",
       "      <td>4.7000</td>\n",
       "      <td>7.9200</td>\n",
       "      <td>11.4200</td>\n",
       "      <td>11.8500</td>\n",
       "      <td>10.1100</td>\n",
       "      <td>8.7800</td>\n",
       "      <td>6.4500</td>\n",
       "      <td>4.8700</td>\n",
       "      <td>12.3000</td>\n",
       "      <td>10.8500</td>\n",
       "      <td>6.1900</td>\n",
       "      <td>9.9500</td>\n",
       "      <td>11.2700</td>\n",
       "      <td>9.3900</td>\n",
       "      <td>10.4000</td>\n",
       "      <td>11.7000</td>\n",
       "      <td>12.7800</td>\n",
       "      <td>10.5100</td>\n",
       "      <td>8.1200</td>\n",
       "      <td>nan</td>\n",
       "      <td>10.8900</td>\n",
       "      <td>8.8400</td>\n",
       "      <td>10.9600</td>\n",
       "      <td>10.1400</td>\n",
       "      <td>9.9900</td>\n",
       "    </tr>\n",
       "    <tr>\n",
       "      <th>25%</th>\n",
       "      <td>14.0250</td>\n",
       "      <td>14.7900</td>\n",
       "      <td>13.1900</td>\n",
       "      <td>14.2500</td>\n",
       "      <td>12.9950</td>\n",
       "      <td>10.7500</td>\n",
       "      <td>11.4700</td>\n",
       "      <td>14.1350</td>\n",
       "      <td>14.1550</td>\n",
       "      <td>11.3100</td>\n",
       "      <td>15.1400</td>\n",
       "      <td>14.5600</td>\n",
       "      <td>13.1100</td>\n",
       "      <td>16.3250</td>\n",
       "      <td>13.7650</td>\n",
       "      <td>14.6100</td>\n",
       "      <td>9.6950</td>\n",
       "      <td>19.1500</td>\n",
       "      <td>18.5050</td>\n",
       "      <td>11.9000</td>\n",
       "      <td>12.0450</td>\n",
       "      <td>12.2750</td>\n",
       "      <td>10.5100</td>\n",
       "      <td>13.0100</td>\n",
       "      <td>12.8400</td>\n",
       "      <td>17.0300</td>\n",
       "      <td>13.6500</td>\n",
       "      <td>13.6500</td>\n",
       "      <td>nan</td>\n",
       "      <td>13.9050</td>\n",
       "      <td>14.7100</td>\n",
       "      <td>13.0950</td>\n",
       "      <td>11.8150</td>\n",
       "      <td>12.2450</td>\n",
       "    </tr>\n",
       "    <tr>\n",
       "      <th>50%</th>\n",
       "      <td>379402.0000</td>\n",
       "      <td>11063.0000</td>\n",
       "      <td>143175.0000</td>\n",
       "      <td>247144.0000</td>\n",
       "      <td>158074.0000</td>\n",
       "      <td>35921.0000</td>\n",
       "      <td>615606.0000</td>\n",
       "      <td>297539.0000</td>\n",
       "      <td>72720.0000</td>\n",
       "      <td>78254.0000</td>\n",
       "      <td>150918.0000</td>\n",
       "      <td>603778.0000</td>\n",
       "      <td>364048.0000</td>\n",
       "      <td>315561.0000</td>\n",
       "      <td>1272967.0000</td>\n",
       "      <td>12915.0000</td>\n",
       "      <td>19918.0000</td>\n",
       "      <td>7259.0000</td>\n",
       "      <td>11839.0000</td>\n",
       "      <td>227872.0000</td>\n",
       "      <td>266628.0000</td>\n",
       "      <td>436465.0000</td>\n",
       "      <td>11165.0000</td>\n",
       "      <td>751485.0000</td>\n",
       "      <td>359433.0000</td>\n",
       "      <td>19208.0000</td>\n",
       "      <td>724049.0000</td>\n",
       "      <td>115523.0000</td>\n",
       "      <td>nan</td>\n",
       "      <td>3979.0000</td>\n",
       "      <td>18768.0000</td>\n",
       "      <td>343767.0000</td>\n",
       "      <td>16818.0000</td>\n",
       "      <td>8736039.0000</td>\n",
       "    </tr>\n",
       "    <tr>\n",
       "      <th>75%</th>\n",
       "      <td>495370.0000</td>\n",
       "      <td>14602.0000</td>\n",
       "      <td>177745.0000</td>\n",
       "      <td>317101.0000</td>\n",
       "      <td>220836.0000</td>\n",
       "      <td>40633.0000</td>\n",
       "      <td>807623.0000</td>\n",
       "      <td>419062.0000</td>\n",
       "      <td>88792.0000</td>\n",
       "      <td>95893.0000</td>\n",
       "      <td>188567.0000</td>\n",
       "      <td>817886.0000</td>\n",
       "      <td>465041.0000</td>\n",
       "      <td>459859.5000</td>\n",
       "      <td>1547986.0000</td>\n",
       "      <td>14973.0000</td>\n",
       "      <td>23673.0000</td>\n",
       "      <td>9327.5000</td>\n",
       "      <td>15115.5000</td>\n",
       "      <td>306840.0000</td>\n",
       "      <td>316224.0000</td>\n",
       "      <td>521852.5000</td>\n",
       "      <td>13862.0000</td>\n",
       "      <td>1031827.0000</td>\n",
       "      <td>481682.0000</td>\n",
       "      <td>23628.0000</td>\n",
       "      <td>944146.0000</td>\n",
       "      <td>149817.0000</td>\n",
       "      <td>nan</td>\n",
       "      <td>4790.0000</td>\n",
       "      <td>24787.0000</td>\n",
       "      <td>468103.5000</td>\n",
       "      <td>22979.5000</td>\n",
       "      <td>11835192.0000</td>\n",
       "    </tr>\n",
       "    <tr>\n",
       "      <th>max</th>\n",
       "      <td>699307.0000</td>\n",
       "      <td>18784.0000</td>\n",
       "      <td>224234.0000</td>\n",
       "      <td>413503.0000</td>\n",
       "      <td>290140.0000</td>\n",
       "      <td>45002.0000</td>\n",
       "      <td>994316.0000</td>\n",
       "      <td>547396.0000</td>\n",
       "      <td>104369.0000</td>\n",
       "      <td>118387.0000</td>\n",
       "      <td>241955.0000</td>\n",
       "      <td>1027068.0000</td>\n",
       "      <td>588337.0000</td>\n",
       "      <td>640484.0000</td>\n",
       "      <td>1792122.0000</td>\n",
       "      <td>18043.0000</td>\n",
       "      <td>29567.0000</td>\n",
       "      <td>11559.0000</td>\n",
       "      <td>18414.0000</td>\n",
       "      <td>378991.0000</td>\n",
       "      <td>368011.0000</td>\n",
       "      <td>612194.0000</td>\n",
       "      <td>16637.0000</td>\n",
       "      <td>1338766.0000</td>\n",
       "      <td>654294.0000</td>\n",
       "      <td>29667.0000</td>\n",
       "      <td>1153795.0000</td>\n",
       "      <td>184091.0000</td>\n",
       "      <td>nan</td>\n",
       "      <td>5721.0000</td>\n",
       "      <td>30304.0000</td>\n",
       "      <td>622385.0000</td>\n",
       "      <td>29557.0000</td>\n",
       "      <td>15251028.0000</td>\n",
       "    </tr>\n",
       "  </tbody>\n",
       "</table>\n",
       "</div>"
      ],
      "text/plain": [
       "       Andhra Pradesh   Arunachal Pradesh       Assam       Bihar  \\\n",
       "count 11.0000          9.0000             9.0000      9.0000        \n",
       "mean  280986.5618      8201.5167          100018.1678 181565.6733   \n",
       "std   282573.5324      8073.2761          97589.4975  178700.4977   \n",
       "min   8.4300           12.0700            9.5600      10.5900       \n",
       "25%   14.0250          14.7900            13.1900     14.2500       \n",
       "50%   379402.0000      11063.0000         143175.0000 247144.0000   \n",
       "75%   495370.0000      14602.0000         177745.0000 317101.0000   \n",
       "max   699307.0000      18784.0000         224234.0000 413503.0000   \n",
       "\n",
       "       Chhattisgarh        Goa     Gujarat     Haryana  Himachal Pradesh  \\\n",
       "count 11.0000       9.0000     9.0000      11.0000     7.0000              \n",
       "mean  120748.8791   22450.1200 448568.6744 228667.2718 50673.0643          \n",
       "std   120928.4804   21443.4298 438025.6272 228195.8956 48384.1211          \n",
       "min   10.9800       -10.0200   10.8200     9.1800      10.1400             \n",
       "25%   12.9950       10.7500    11.4700     14.1350     14.1550             \n",
       "50%   158074.0000   35921.0000 615606.0000 297539.0000 72720.0000          \n",
       "75%   220836.0000   40633.0000 807623.0000 419062.0000 88792.0000          \n",
       "max   290140.0000   45002.0000 994316.0000 547396.0000 104369.0000         \n",
       "\n",
       "       Jammu & Kashmir   Jharkhand    Karnataka      Kerala  Madhya Pradesh  \\\n",
       "count 9.0000           9.0000      9.0000       9.0000      11.0000           \n",
       "mean  53343.0011       108146.8078 451364.1022  261754.6678 254612.6664       \n",
       "std   51712.6685       105639.9050 444821.6063  256167.6851 257221.1141       \n",
       "min   4.7000           7.9200      11.4200      11.8500     10.1100           \n",
       "25%   11.3100          15.1400     14.5600      13.1100     16.3250           \n",
       "50%   78254.0000       150918.0000 603778.0000  364048.0000 315561.0000       \n",
       "75%   95893.0000       188567.0000 817886.0000  465041.0000 459859.5000       \n",
       "max   118387.0000      241955.0000 1027068.0000 588337.0000 640484.0000       \n",
       "\n",
       "       Maharashtra    Manipur  Meghalaya    Mizoram   Nagaland      Odisha  \\\n",
       "count 7.0000       7.0000     11.0000    7.0000     7.0000     11.0000       \n",
       "mean  880156.7586  8705.6671  13226.2927 5360.5143  8647.4086  165523.5182   \n",
       "std   838823.0427  8298.6926  12892.7626 5180.5337  8338.9660  163258.5689   \n",
       "min   8.7800       6.4500     4.8700     12.3000    10.8500    6.1900        \n",
       "25%   13.7650      14.6100    9.6950     19.1500    18.5050    11.9000       \n",
       "50%   1272967.0000 12915.0000 19918.0000 7259.0000  11839.0000 227872.0000   \n",
       "75%   1547986.0000 14973.0000 23673.0000 9327.5000  15115.5000 306840.0000   \n",
       "max   1792122.0000 18043.0000 29567.0000 11559.0000 18414.0000 378991.0000   \n",
       "\n",
       "           Punjab   Rajasthan     Sikkim   Tamil Nadu   Telangana    Tripura  \\\n",
       "count 7.0000      7.0000      9.0000     11.0000      11.0000     7.0000       \n",
       "mean  181017.2914 298914.2600 7694.7744  565646.8409  268570.7873 13739.6914   \n",
       "std   172158.2435 284618.5131 7451.9832  563615.7890  268734.5491 13240.7973   \n",
       "min   9.9500      11.2700     9.3900     10.4000      11.7000     12.7800      \n",
       "25%   12.0450     12.2750     10.5100    13.0100      12.8400     17.0300      \n",
       "50%   266628.0000 436465.0000 11165.0000 751485.0000  359433.0000 19208.0000   \n",
       "75%   316224.0000 521852.5000 13862.0000 1031827.0000 481682.0000 23628.0000   \n",
       "max   368011.0000 612194.0000 16637.0000 1338766.0000 654294.0000 29667.0000   \n",
       "\n",
       "       Uttar Pradesh  Uttarakhand  West Bengal1  Andaman & Nicobar Islands  \\\n",
       "count 9.0000         9.0000       0.0000        7.0000                       \n",
       "mean  520923.7189    82588.9478   nan           2759.8143                    \n",
       "std   508728.8361    80553.8583   nan           2627.0167                    \n",
       "min   10.5100        8.1200       nan           10.8900                      \n",
       "25%   13.6500        13.6500      nan           13.9050                      \n",
       "50%   724049.0000    115523.0000  nan           3979.0000                    \n",
       "75%   944146.0000    149817.0000  nan           4790.0000                    \n",
       "max   1153795.0000   184091.0000  nan           5721.0000                    \n",
       "\n",
       "       Chandigarh       Delhi  Puducherry  All_India GDP  \n",
       "count 9.0000      11.0000     11.0000     11.0000         \n",
       "mean  13707.0022  258693.0045 12527.4355  6479952.4536    \n",
       "std   13399.0033  258176.5163 12445.8893  6433000.3626    \n",
       "min   8.8400      10.9600     10.1400     9.9900          \n",
       "25%   14.7100     13.0950     11.8150     12.2450         \n",
       "50%   18768.0000  343767.0000 16818.0000  8736039.0000    \n",
       "75%   24787.0000  468103.5000 22979.5000  11835192.0000   \n",
       "max   30304.0000  622385.0000 29557.0000  15251028.0000   "
      ]
     },
     "execution_count": 5,
     "metadata": {},
     "output_type": "execute_result"
    }
   ],
   "source": [
    "gdp_data.describe()"
   ]
  },
  {
   "cell_type": "code",
   "execution_count": 6,
   "metadata": {},
   "outputs": [
    {
     "name": "stdout",
     "output_type": "stream",
     "text": [
      "<class 'pandas.core.frame.DataFrame'>\n",
      "RangeIndex: 11 entries, 0 to 10\n",
      "Data columns (total 36 columns):\n",
      " #   Column                     Non-Null Count  Dtype  \n",
      "---  ------                     --------------  -----  \n",
      " 0   Items  Description         11 non-null     object \n",
      " 1   Duration                   11 non-null     object \n",
      " 2   Andhra Pradesh             11 non-null     float64\n",
      " 3   Arunachal Pradesh          9 non-null      float64\n",
      " 4   Assam                      9 non-null      float64\n",
      " 5   Bihar                      9 non-null      float64\n",
      " 6   Chhattisgarh               11 non-null     float64\n",
      " 7   Goa                        9 non-null      float64\n",
      " 8   Gujarat                    9 non-null      float64\n",
      " 9   Haryana                    11 non-null     float64\n",
      " 10  Himachal Pradesh           7 non-null      float64\n",
      " 11  Jammu & Kashmir            9 non-null      float64\n",
      " 12  Jharkhand                  9 non-null      float64\n",
      " 13  Karnataka                  9 non-null      float64\n",
      " 14  Kerala                     9 non-null      float64\n",
      " 15  Madhya Pradesh             11 non-null     float64\n",
      " 16  Maharashtra                7 non-null      float64\n",
      " 17  Manipur                    7 non-null      float64\n",
      " 18  Meghalaya                  11 non-null     float64\n",
      " 19  Mizoram                    7 non-null      float64\n",
      " 20  Nagaland                   7 non-null      float64\n",
      " 21  Odisha                     11 non-null     float64\n",
      " 22  Punjab                     7 non-null      float64\n",
      " 23  Rajasthan                  7 non-null      float64\n",
      " 24  Sikkim                     9 non-null      float64\n",
      " 25  Tamil Nadu                 11 non-null     float64\n",
      " 26  Telangana                  11 non-null     float64\n",
      " 27  Tripura                    7 non-null      float64\n",
      " 28  Uttar Pradesh              9 non-null      float64\n",
      " 29  Uttarakhand                9 non-null      float64\n",
      " 30  West Bengal1               0 non-null      float64\n",
      " 31  Andaman & Nicobar Islands  7 non-null      float64\n",
      " 32  Chandigarh                 9 non-null      float64\n",
      " 33  Delhi                      11 non-null     float64\n",
      " 34  Puducherry                 11 non-null     float64\n",
      " 35  All_India GDP              11 non-null     float64\n",
      "dtypes: float64(34), object(2)\n",
      "memory usage: 3.2+ KB\n"
     ]
    }
   ],
   "source": [
    "gdp_data.info()"
   ]
  },
  {
   "cell_type": "raw",
   "metadata": {},
   "source": [
    "Data Cleaning and Preparation"
   ]
  },
  {
   "cell_type": "code",
   "execution_count": 7,
   "metadata": {},
   "outputs": [
    {
     "data": {
      "text/plain": [
       "Andhra Pradesh              280986.5618 \n",
       "Arunachal Pradesh           8201.5167   \n",
       "Assam                       100018.1678 \n",
       "Bihar                       181565.6733 \n",
       "Chhattisgarh                120748.8791 \n",
       "Goa                         22450.1200  \n",
       "Gujarat                     448568.6744 \n",
       "Haryana                     228667.2718 \n",
       "Himachal Pradesh            50673.0643  \n",
       "Jammu & Kashmir             53343.0011  \n",
       "Jharkhand                   108146.8078 \n",
       "Karnataka                   451364.1022 \n",
       "Kerala                      261754.6678 \n",
       "Madhya Pradesh              254612.6664 \n",
       "Maharashtra                 880156.7586 \n",
       "Manipur                     8705.6671   \n",
       "Meghalaya                   13226.2927  \n",
       "Mizoram                     5360.5143   \n",
       "Nagaland                    8647.4086   \n",
       "Odisha                      165523.5182 \n",
       "Punjab                      181017.2914 \n",
       "Rajasthan                   298914.2600 \n",
       "Sikkim                      7694.7744   \n",
       "Tamil Nadu                  565646.8409 \n",
       "Telangana                   268570.7873 \n",
       "Tripura                     13739.6914  \n",
       "Uttar Pradesh               520923.7189 \n",
       "Uttarakhand                 82588.9478  \n",
       "West Bengal1                nan         \n",
       "Andaman & Nicobar Islands   2759.8143   \n",
       "Chandigarh                  13707.0022  \n",
       "Delhi                       258693.0045 \n",
       "Puducherry                  12527.4355  \n",
       "All_India GDP               6479952.4536\n",
       "dtype: float64"
      ]
     },
     "execution_count": 7,
     "metadata": {},
     "output_type": "execute_result"
    }
   ],
   "source": [
    "mean=gdp_data.mean()\n",
    "mean"
   ]
  },
  {
   "cell_type": "code",
   "execution_count": 8,
   "metadata": {},
   "outputs": [
    {
     "data": {
      "text/plain": [
       "Items  Description          0.0000  \n",
       "Duration                    0.0000  \n",
       "Andhra Pradesh              0.0000  \n",
       "Arunachal Pradesh           18.1800 \n",
       "Assam                       18.1800 \n",
       "Bihar                       18.1800 \n",
       "Chhattisgarh                0.0000  \n",
       "Goa                         18.1800 \n",
       "Gujarat                     18.1800 \n",
       "Haryana                     0.0000  \n",
       "Himachal Pradesh            36.3600 \n",
       "Jammu & Kashmir             18.1800 \n",
       "Jharkhand                   18.1800 \n",
       "Karnataka                   18.1800 \n",
       "Kerala                      18.1800 \n",
       "Madhya Pradesh              0.0000  \n",
       "Maharashtra                 36.3600 \n",
       "Manipur                     36.3600 \n",
       "Meghalaya                   0.0000  \n",
       "Mizoram                     36.3600 \n",
       "Nagaland                    36.3600 \n",
       "Odisha                      0.0000  \n",
       "Punjab                      36.3600 \n",
       "Rajasthan                   36.3600 \n",
       "Sikkim                      18.1800 \n",
       "Tamil Nadu                  0.0000  \n",
       "Telangana                   0.0000  \n",
       "Tripura                     36.3600 \n",
       "Uttar Pradesh               18.1800 \n",
       "Uttarakhand                 18.1800 \n",
       "West Bengal1                100.0000\n",
       "Andaman & Nicobar Islands   36.3600 \n",
       "Chandigarh                  18.1800 \n",
       "Delhi                       0.0000  \n",
       "Puducherry                  0.0000  \n",
       "All_India GDP               0.0000  \n",
       "dtype: float64"
      ]
     },
     "execution_count": 8,
     "metadata": {},
     "output_type": "execute_result"
    }
   ],
   "source": [
    "df_null=gdp_data.isna().mean().round(4) * 100\n",
    "df_null"
   ]
  },
  {
   "cell_type": "code",
   "execution_count": 9,
   "metadata": {},
   "outputs": [],
   "source": [
    "# Dropping columns where all rows are NaN\n",
    "\n",
    "dfx1 = gdp_data.dropna(axis = 1, how = 'all')"
   ]
  },
  {
   "cell_type": "code",
   "execution_count": 10,
   "metadata": {},
   "outputs": [],
   "source": [
    "# Dropping the data for Duration 2016-17 as it will not be used in Analysis\n",
    "\n",
    "dfx2 = dfx1[dfx1.Duration != '2016-17']"
   ]
  },
  {
   "cell_type": "code",
   "execution_count": 11,
   "metadata": {},
   "outputs": [],
   "source": [
    "# Dropping the UT as it is not needed for Analysis\n",
    "\n",
    "dfx3 = dfx2.T\n",
    "dfx4 = dfx3.drop(labels = ['Andaman & Nicobar Islands','Chandigarh','Delhi','Puducherry'])"
   ]
  },
  {
   "cell_type": "code",
   "execution_count": 12,
   "metadata": {},
   "outputs": [
    {
     "data": {
      "text/plain": [
       "Goa                 6.0300 \n",
       "Meghalaya           6.9500 \n",
       "Odisha              9.8400 \n",
       "Sikkim              10.4900\n",
       "Jammu & Kashmir     10.9000\n",
       "Gujarat             11.1300\n",
       "Punjab              11.1800\n",
       "All_India GDP       11.2000\n",
       "Maharashtra         11.2600\n",
       "Rajasthan           11.3200\n",
       "Jharkhand           11.5000\n",
       "Uttarakhand         11.8000\n",
       "Haryana             11.8500\n",
       "Uttar Pradesh       11.9400\n",
       "Himachal Pradesh    12.2800\n",
       "Tamil Nadu          12.3400\n",
       "Kerala              12.5800\n",
       "Madhya Pradesh      12.6300\n",
       "Assam               12.6500\n",
       "Telangana           12.7600\n",
       "Bihar               13.6000\n",
       "Chhattisgarh        13.7000\n",
       "Andhra Pradesh      14.0300\n",
       "Karnataka           14.1200\n",
       "Arunachal Pradesh   14.4100\n",
       "Manipur             14.6100\n",
       "Nagaland            16.4200\n",
       "Tripura             17.0300\n",
       "Mizoram             17.7000\n",
       "dtype: float64"
      ]
     },
     "execution_count": 12,
     "metadata": {},
     "output_type": "execute_result"
    }
   ],
   "source": [
    "# Mean of the row (% Growth over previous year) for duration 2013-14, 2014-15 and 2015-16\n",
    "\n",
    "dfx4_mean = dfx4.iloc[2:,6:10].mean(axis = 1).round(2).sort_values()\n",
    "dfx4_mean"
   ]
  },
  {
   "cell_type": "markdown",
   "metadata": {},
   "source": [
    "# Data Visualization and Insights Extraction"
   ]
  },
  {
   "cell_type": "code",
   "execution_count": 13,
   "metadata": {},
   "outputs": [
    {
     "data": {
      "text/plain": [
       "Text(0, 0.5, 'States')"
      ]
     },
     "execution_count": 13,
     "metadata": {},
     "output_type": "execute_result"
    },
    {
     "data": {
      "image/png": "[encoded data removed]",
      "text/plain": [
       "<Figure size 828x576 with 1 Axes>"
      ]
     },
     "metadata": {
      "needs_background": "light"
     },
     "output_type": "display_data"
    }
   ],
   "source": [
    "# Bar Plot for Average growth rates of the various states for duration 2013-14, 2014-15 and 2015-16\n",
    "plt.rcParams['figure.figsize'] = [11.5,8]\n",
    "dfx4_mean.plot(kind='barh',stacked=True, colormap = 'Set2')\n",
    "plt.title(\"Avg.% Growth of States for Duration 2013-14, 2014-15 and 2015-16\", fontweight = 'bold')\n",
    "plt.xlabel(\"Avg. % Growth\", fontweight = 'bold')\n",
    "plt.ylabel(\"States\", fontweight = 'bold')"
   ]
  },
  {
   "cell_type": "markdown",
   "metadata": {},
   "source": [
    "Insights from the above Plot considering the average growth rates of various states for duration 2013-2016\n",
    "States like Mizoram, Nagaland,Tripura and Manipur which are parts of our Eastern India has been consistently growing fast as compared to its peer states with avg growth rate of approx 15%.\n",
    "Goa and Meghalaya are struggling to grow as compared to other states."
   ]
  },
  {
   "cell_type": "code",
   "execution_count": 14,
   "metadata": {},
   "outputs": [],
   "source": [
    "# Average growth rate of my home state against the National average Growth rate\n",
    "\n",
    "dfx4_myhome = dfx4_mean[['Maharashtra','Gujarat', 'All_India GDP']]"
   ]
  },
  {
   "cell_type": "code",
   "execution_count": 15,
   "metadata": {},
   "outputs": [
    {
     "data": {
      "text/plain": [
       "Text(0.5, 0, 'Home State Vs National Average')"
      ]
     },
     "execution_count": 15,
     "metadata": {},
     "output_type": "execute_result"
    },
    {
     "data": {
      "image/png": "[encoded data removed]",
      "text/plain": [
       "<Figure size 828x576 with 1 Axes>"
      ]
     },
     "metadata": {
      "needs_background": "light"
     },
     "output_type": "display_data"
    }
   ],
   "source": [
    "dfx4_myhome.plot(kind='bar',stacked=True, colormap = 'Dark2')\n",
    "plt.title(\"Avg. % Growth of Home State vs National Avg. for Duration 2013-14, 2014-15 and 2015-16\", fontweight = 'bold')\n",
    "plt.ylabel(\"Average % Growth\", fontweight = 'bold')\n",
    "plt.xlabel(\"Home State Vs National Average\", fontweight = 'bold')"
   ]
  },
  {
   "cell_type": "markdown",
   "metadata": {},
   "source": [
    "Average growth rate of my home state Maharastra and Gujarat is approximately National Average growth rate(12%)."
   ]
  },
  {
   "cell_type": "markdown",
   "metadata": {},
   "source": [
    "# Total GDP of the states for the year 2015-16"
   ]
  },
  {
   "cell_type": "code",
   "execution_count": 16,
   "metadata": {},
   "outputs": [],
   "source": [
    "#Selecting the GSDP for year 2015-16\n",
    "\n",
    "dfx5_total_gdp = dfx4.iloc[2:,4:5]"
   ]
  },
  {
   "cell_type": "code",
   "execution_count": 17,
   "metadata": {},
   "outputs": [],
   "source": [
    "# Dropping the GSDP of All_India as it will not be included in the plot\n",
    "\n",
    "dfx6_total_gdp = dfx5_total_gdp.drop(labels = ['All_India GDP'])\n"
   ]
  },
  {
   "cell_type": "code",
   "execution_count": null,
   "metadata": {},
   "outputs": [],
   "source": []
  },
  {
   "cell_type": "code",
   "execution_count": 18,
   "metadata": {},
   "outputs": [
    {
     "data": {
      "text/plain": [
       "Text(0.5, 0, 'States')"
      ]
     },
     "execution_count": 18,
     "metadata": {},
     "output_type": "execute_result"
    },
    {
     "data": {
      "image/png": "[encoded data removed]",
      "text/plain": [
       "<Figure size 828x576 with 1 Axes>"
      ]
     },
     "metadata": {
      "needs_background": "light"
     },
     "output_type": "display_data"
    }
   ],
   "source": [
    "#Plot for GSDP of all states including States with NaN\n",
    "\n",
    "dfx6_total_gdp.sort_values(by=4).plot(kind='bar',stacked=True, colormap = 'Set1')\n",
    "plt.title(\"Total GDP of States for duration 2015-16\" , fontweight = 'bold')\n",
    "plt.ylabel(\"Total GDP (in cr)\",fontweight = 'bold')\n",
    "plt.xlabel(\"States\",fontweight = 'bold')"
   ]
  },
  {
   "cell_type": "code",
   "execution_count": 19,
   "metadata": {},
   "outputs": [],
   "source": [
    "# Dropping the States whose GSDP in NaN for year 2015-16\n",
    "\n",
    "dfx7_total_gdp = dfx6_total_gdp.dropna().sort_values(by = 4)"
   ]
  },
  {
   "cell_type": "code",
   "execution_count": 20,
   "metadata": {},
   "outputs": [
    {
     "data": {
      "text/plain": [
       "Text(0.5, 0, 'States')"
      ]
     },
     "execution_count": 20,
     "metadata": {},
     "output_type": "execute_result"
    },
    {
     "data": {
      "image/png": "[encoded data removed]",
      "text/plain": [
       "<Figure size 828x576 with 1 Axes>"
      ]
     },
     "metadata": {
      "needs_background": "light"
     },
     "output_type": "display_data"
    }
   ],
   "source": [
    "#Plot for GSDP of all states excluding States with NaN\n",
    "\n",
    "dfx7_total_gdp.plot(kind='bar',stacked=True, colormap = 'copper')\n",
    "plt.title(\"Total GDP of States for duration 2015-16\" , fontweight = 'bold')\n",
    "plt.ylabel(\"Total GDP (in cr)\",fontweight = 'bold')\n",
    "plt.xlabel(\"States\",fontweight = 'bold')"
   ]
  },
  {
   "cell_type": "code",
   "execution_count": 21,
   "metadata": {},
   "outputs": [
    {
     "data": {
      "text/plain": [
       "(20, 1)"
      ]
     },
     "execution_count": 21,
     "metadata": {},
     "output_type": "execute_result"
    }
   ],
   "source": [
    "dfx7_total_gdp.shape"
   ]
  },
  {
   "cell_type": "code",
   "execution_count": 22,
   "metadata": {},
   "outputs": [
    {
     "data": {
      "text/plain": [
       "Text(0.5, 0, 'States')"
      ]
     },
     "execution_count": 22,
     "metadata": {},
     "output_type": "execute_result"
    },
    {
     "data": {
      "image/png": "[encoded data removed]",
      "text/plain": [
       "<Figure size 828x576 with 1 Axes>"
      ]
     },
     "metadata": {
      "needs_background": "light"
     },
     "output_type": "display_data"
    },
    {
     "data": {
      "image/png": "[encoded data removed]",
      "text/plain": [
       "<Figure size 828x576 with 1 Axes>"
      ]
     },
     "metadata": {
      "needs_background": "light"
     },
     "output_type": "display_data"
    }
   ],
   "source": [
    "# GSDP of Top 5 States\n",
    "dfx7_total_gdp.tail(5).plot(kind='bar',stacked=True, colormap = 'winter')\n",
    "plt.title(\"Total GDP of top 5 States for 2015-16\", fontweight = 'bold')\n",
    "plt.ylabel(\"Total GDP (in cr)\",fontweight = 'bold')\n",
    "plt.xlabel(\"States\",fontweight = 'bold')\n",
    "\n",
    "\n",
    "# GSDP of Bottom 5 States\n",
    "dfx7_total_gdp.head(5).plot(kind='bar',stacked=True, colormap = 'flag')\n",
    "plt.title(\"Total GDP of bottom 5 States for 2015-16\", fontweight = 'bold')\n",
    "plt.ylabel(\"Total GDP (in cr)\",fontweight = 'bold')\n",
    "plt.xlabel(\"States\",fontweight = 'bold')"
   ]
  },
  {
   "cell_type": "markdown",
   "metadata": {},
   "source": [
    "Insights from the above Plot considering the GSDP of top/bottom 5 states for duration 2015-16\n",
    "The top 5 states contributes almost 1/3 rd (32%) of total GSDP.\n",
    "There is a significant difference in GSDP between the 5th(Andhra Pradesh) state and the rest of the top 5 states.\n",
    "The bottom 5 states contributes only 1.5 % to total GSDP.\n",
    "The GSDP of J&K is significantly higher than the rest of the bottom states reason being traditional recreational tourism, a vast scope exists for adventure, pilgrimage, spiritual, and health tourism"
   ]
  }
 ],
 "metadata": {
  "kernelspec": {
   "display_name": "Python 3",
   "language": "python",
   "name": "python3"
  },
  "language_info": {
   "codemirror_mode": {
    "name": "ipython",
    "version": 3
   },
   "file_extension": ".py",
   "mimetype": "text/x-python",
   "name": "python",
   "nbconvert_exporter": "python",
   "pygments_lexer": "ipython3",
   "version": "3.8.3"
  }
 },
 "nbformat": 4,
 "nbformat_minor": 4
}
